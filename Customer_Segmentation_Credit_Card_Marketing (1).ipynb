{
  "nbformat": 4,
  "nbformat_minor": 0,
  "metadata": {
    "colab": {
      "provenance": []
    },
    "kernelspec": {
      "name": "python3",
      "display_name": "Python 3"
    },
    "language_info": {
      "name": "python"
    }
  },
  "cells": [
    {
      "cell_type": "markdown",
      "source": [
        "# Customer Segmentation: Credit Card Marketing\n",
        "- Andrea Cohen\n",
        "- 01.24.23"
      ],
      "metadata": {
        "id": "I2X3q1huqFHF"
      }
    },
    {
      "cell_type": "markdown",
      "source": [
        "## Task:\n",
        "  - To segment potential customers in order to determine how and what kind of credit cards should be marketed to each group.\n"
      ],
      "metadata": {
        "id": "MwBIH9_Iqa0o"
      }
    },
    {
      "cell_type": "markdown",
      "source": [
        "## Data Source:\n",
        "  - https://github.com/Nikhil-Adithyan/Customer-Segmentation-with-K-Means"
      ],
      "metadata": {
        "id": "4y2qgcx0q4qC"
      }
    },
    {
      "cell_type": "markdown",
      "source": [
        "## Import Libraries"
      ],
      "metadata": {
        "id": "CfnLX6NvrWTq"
      }
    },
    {
      "cell_type": "code",
      "source": [
        "#imports\n",
        "import numpy as np\n",
        "import pandas as pd\n",
        "import matplotlib.pyplot as plt\n",
        "from sklearn.preprocessing import StandardScaler\n",
        "from sklearn.cluster import KMeans\n",
        "from sklearn.metrics import silhouette_score"
      ],
      "metadata": {
        "id": "pPCzC-5JrDly"
      },
      "execution_count": 1,
      "outputs": []
    },
    {
      "cell_type": "markdown",
      "source": [
        "## Load and inspect the data"
      ],
      "metadata": {
        "id": "1OnaBzkmrySS"
      }
    },
    {
      "cell_type": "markdown",
      "source": [
        "### Load the dataset"
      ],
      "metadata": {
        "id": "2P5jbJxUs9sU"
      }
    },
    {
      "cell_type": "code",
      "source": [
        "# load the dataset and check for unnecessary columns\n",
        "df = pd.read_csv('https://s3.amazonaws.com/General_V88/boomyeah2015/codingdojo/curriculum/content/chapter/cust_seg.csv', index_col = 'Customer Id')\n",
        "display(df.head())\n",
        "display(df.info())"
      ],
      "metadata": {
        "colab": {
          "base_uri": "https://localhost:8080/",
          "height": 541
        },
        "id": "EJgKXdTTqXKi",
        "outputId": "2ae1e596-a975-424c-877e-24efdf2ac246"
      },
      "execution_count": 2,
      "outputs": [
        {
          "output_type": "display_data",
          "data": {
            "text/plain": [
              "             Unnamed: 0  Age  Edu  Years Employed  Income  Card Debt  \\\n",
              "Customer Id                                                            \n",
              "1                     0   41    2               6      19      0.124   \n",
              "2                     1   47    1              26     100      4.582   \n",
              "3                     2   33    2              10      57      6.111   \n",
              "4                     3   29    2               4      19      0.681   \n",
              "5                     4   47    1              31     253      9.308   \n",
              "\n",
              "             Other Debt  Defaulted  DebtIncomeRatio  \n",
              "Customer Id                                          \n",
              "1                 1.073        0.0              6.3  \n",
              "2                 8.218        0.0             12.8  \n",
              "3                 5.802        1.0             20.9  \n",
              "4                 0.516        0.0              6.3  \n",
              "5                 8.908        0.0              7.2  "
            ],
            "text/html": [
              "\n",
              "  <div id=\"df-95d25e5f-98f3-4b5c-81cc-b1f314dc7c65\">\n",
              "    <div class=\"colab-df-container\">\n",
              "      <div>\n",
              "<style scoped>\n",
              "    .dataframe tbody tr th:only-of-type {\n",
              "        vertical-align: middle;\n",
              "    }\n",
              "\n",
              "    .dataframe tbody tr th {\n",
              "        vertical-align: top;\n",
              "    }\n",
              "\n",
              "    .dataframe thead th {\n",
              "        text-align: right;\n",
              "    }\n",
              "</style>\n",
              "<table border=\"1\" class=\"dataframe\">\n",
              "  <thead>\n",
              "    <tr style=\"text-align: right;\">\n",
              "      <th></th>\n",
              "      <th>Unnamed: 0</th>\n",
              "      <th>Age</th>\n",
              "      <th>Edu</th>\n",
              "      <th>Years Employed</th>\n",
              "      <th>Income</th>\n",
              "      <th>Card Debt</th>\n",
              "      <th>Other Debt</th>\n",
              "      <th>Defaulted</th>\n",
              "      <th>DebtIncomeRatio</th>\n",
              "    </tr>\n",
              "    <tr>\n",
              "      <th>Customer Id</th>\n",
              "      <th></th>\n",
              "      <th></th>\n",
              "      <th></th>\n",
              "      <th></th>\n",
              "      <th></th>\n",
              "      <th></th>\n",
              "      <th></th>\n",
              "      <th></th>\n",
              "      <th></th>\n",
              "    </tr>\n",
              "  </thead>\n",
              "  <tbody>\n",
              "    <tr>\n",
              "      <th>1</th>\n",
              "      <td>0</td>\n",
              "      <td>41</td>\n",
              "      <td>2</td>\n",
              "      <td>6</td>\n",
              "      <td>19</td>\n",
              "      <td>0.124</td>\n",
              "      <td>1.073</td>\n",
              "      <td>0.0</td>\n",
              "      <td>6.3</td>\n",
              "    </tr>\n",
              "    <tr>\n",
              "      <th>2</th>\n",
              "      <td>1</td>\n",
              "      <td>47</td>\n",
              "      <td>1</td>\n",
              "      <td>26</td>\n",
              "      <td>100</td>\n",
              "      <td>4.582</td>\n",
              "      <td>8.218</td>\n",
              "      <td>0.0</td>\n",
              "      <td>12.8</td>\n",
              "    </tr>\n",
              "    <tr>\n",
              "      <th>3</th>\n",
              "      <td>2</td>\n",
              "      <td>33</td>\n",
              "      <td>2</td>\n",
              "      <td>10</td>\n",
              "      <td>57</td>\n",
              "      <td>6.111</td>\n",
              "      <td>5.802</td>\n",
              "      <td>1.0</td>\n",
              "      <td>20.9</td>\n",
              "    </tr>\n",
              "    <tr>\n",
              "      <th>4</th>\n",
              "      <td>3</td>\n",
              "      <td>29</td>\n",
              "      <td>2</td>\n",
              "      <td>4</td>\n",
              "      <td>19</td>\n",
              "      <td>0.681</td>\n",
              "      <td>0.516</td>\n",
              "      <td>0.0</td>\n",
              "      <td>6.3</td>\n",
              "    </tr>\n",
              "    <tr>\n",
              "      <th>5</th>\n",
              "      <td>4</td>\n",
              "      <td>47</td>\n",
              "      <td>1</td>\n",
              "      <td>31</td>\n",
              "      <td>253</td>\n",
              "      <td>9.308</td>\n",
              "      <td>8.908</td>\n",
              "      <td>0.0</td>\n",
              "      <td>7.2</td>\n",
              "    </tr>\n",
              "  </tbody>\n",
              "</table>\n",
              "</div>\n",
              "      <button class=\"colab-df-convert\" onclick=\"convertToInteractive('df-95d25e5f-98f3-4b5c-81cc-b1f314dc7c65')\"\n",
              "              title=\"Convert this dataframe to an interactive table.\"\n",
              "              style=\"display:none;\">\n",
              "        \n",
              "  <svg xmlns=\"http://www.w3.org/2000/svg\" height=\"24px\"viewBox=\"0 0 24 24\"\n",
              "       width=\"24px\">\n",
              "    <path d=\"M0 0h24v24H0V0z\" fill=\"none\"/>\n",
              "    <path d=\"M18.56 5.44l.94 2.06.94-2.06 2.06-.94-2.06-.94-.94-2.06-.94 2.06-2.06.94zm-11 1L8.5 8.5l.94-2.06 2.06-.94-2.06-.94L8.5 2.5l-.94 2.06-2.06.94zm10 10l.94 2.06.94-2.06 2.06-.94-2.06-.94-.94-2.06-.94 2.06-2.06.94z\"/><path d=\"M17.41 7.96l-1.37-1.37c-.4-.4-.92-.59-1.43-.59-.52 0-1.04.2-1.43.59L10.3 9.45l-7.72 7.72c-.78.78-.78 2.05 0 2.83L4 21.41c.39.39.9.59 1.41.59.51 0 1.02-.2 1.41-.59l7.78-7.78 2.81-2.81c.8-.78.8-2.07 0-2.86zM5.41 20L4 18.59l7.72-7.72 1.47 1.35L5.41 20z\"/>\n",
              "  </svg>\n",
              "      </button>\n",
              "      \n",
              "  <style>\n",
              "    .colab-df-container {\n",
              "      display:flex;\n",
              "      flex-wrap:wrap;\n",
              "      gap: 12px;\n",
              "    }\n",
              "\n",
              "    .colab-df-convert {\n",
              "      background-color: #E8F0FE;\n",
              "      border: none;\n",
              "      border-radius: 50%;\n",
              "      cursor: pointer;\n",
              "      display: none;\n",
              "      fill: #1967D2;\n",
              "      height: 32px;\n",
              "      padding: 0 0 0 0;\n",
              "      width: 32px;\n",
              "    }\n",
              "\n",
              "    .colab-df-convert:hover {\n",
              "      background-color: #E2EBFA;\n",
              "      box-shadow: 0px 1px 2px rgba(60, 64, 67, 0.3), 0px 1px 3px 1px rgba(60, 64, 67, 0.15);\n",
              "      fill: #174EA6;\n",
              "    }\n",
              "\n",
              "    [theme=dark] .colab-df-convert {\n",
              "      background-color: #3B4455;\n",
              "      fill: #D2E3FC;\n",
              "    }\n",
              "\n",
              "    [theme=dark] .colab-df-convert:hover {\n",
              "      background-color: #434B5C;\n",
              "      box-shadow: 0px 1px 3px 1px rgba(0, 0, 0, 0.15);\n",
              "      filter: drop-shadow(0px 1px 2px rgba(0, 0, 0, 0.3));\n",
              "      fill: #FFFFFF;\n",
              "    }\n",
              "  </style>\n",
              "\n",
              "      <script>\n",
              "        const buttonEl =\n",
              "          document.querySelector('#df-95d25e5f-98f3-4b5c-81cc-b1f314dc7c65 button.colab-df-convert');\n",
              "        buttonEl.style.display =\n",
              "          google.colab.kernel.accessAllowed ? 'block' : 'none';\n",
              "\n",
              "        async function convertToInteractive(key) {\n",
              "          const element = document.querySelector('#df-95d25e5f-98f3-4b5c-81cc-b1f314dc7c65');\n",
              "          const dataTable =\n",
              "            await google.colab.kernel.invokeFunction('convertToInteractive',\n",
              "                                                     [key], {});\n",
              "          if (!dataTable) return;\n",
              "\n",
              "          const docLinkHtml = 'Like what you see? Visit the ' +\n",
              "            '<a target=\"_blank\" href=https://colab.research.google.com/notebooks/data_table.ipynb>data table notebook</a>'\n",
              "            + ' to learn more about interactive tables.';\n",
              "          element.innerHTML = '';\n",
              "          dataTable['output_type'] = 'display_data';\n",
              "          await google.colab.output.renderOutput(dataTable, element);\n",
              "          const docLink = document.createElement('div');\n",
              "          docLink.innerHTML = docLinkHtml;\n",
              "          element.appendChild(docLink);\n",
              "        }\n",
              "      </script>\n",
              "    </div>\n",
              "  </div>\n",
              "  "
            ]
          },
          "metadata": {}
        },
        {
          "output_type": "stream",
          "name": "stdout",
          "text": [
            "<class 'pandas.core.frame.DataFrame'>\n",
            "Int64Index: 850 entries, 1 to 850\n",
            "Data columns (total 9 columns):\n",
            " #   Column           Non-Null Count  Dtype  \n",
            "---  ------           --------------  -----  \n",
            " 0   Unnamed: 0       850 non-null    int64  \n",
            " 1   Age              850 non-null    int64  \n",
            " 2   Edu              850 non-null    int64  \n",
            " 3   Years Employed   850 non-null    int64  \n",
            " 4   Income           850 non-null    int64  \n",
            " 5   Card Debt        850 non-null    float64\n",
            " 6   Other Debt       850 non-null    float64\n",
            " 7   Defaulted        700 non-null    float64\n",
            " 8   DebtIncomeRatio  850 non-null    float64\n",
            "dtypes: float64(4), int64(5)\n",
            "memory usage: 66.4 KB\n"
          ]
        },
        {
          "output_type": "display_data",
          "data": {
            "text/plain": [
              "None"
            ]
          },
          "metadata": {}
        }
      ]
    },
    {
      "cell_type": "markdown",
      "source": [
        "#### Delete unnecessary columns"
      ],
      "metadata": {
        "id": "gYHJF10AtUBj"
      }
    },
    {
      "cell_type": "code",
      "source": [
        "#Unnamed: 0 is an unnecessary column\n",
        "df = df.drop(columns = 'Unnamed: 0')\n",
        "df.head()"
      ],
      "metadata": {
        "colab": {
          "base_uri": "https://localhost:8080/",
          "height": 238
        },
        "id": "BtugKsNOtbYE",
        "outputId": "48652ea4-5cfe-4666-e388-1733ae1b1745"
      },
      "execution_count": 3,
      "outputs": [
        {
          "output_type": "execute_result",
          "data": {
            "text/plain": [
              "             Age  Edu  Years Employed  Income  Card Debt  Other Debt  \\\n",
              "Customer Id                                                            \n",
              "1             41    2               6      19      0.124       1.073   \n",
              "2             47    1              26     100      4.582       8.218   \n",
              "3             33    2              10      57      6.111       5.802   \n",
              "4             29    2               4      19      0.681       0.516   \n",
              "5             47    1              31     253      9.308       8.908   \n",
              "\n",
              "             Defaulted  DebtIncomeRatio  \n",
              "Customer Id                              \n",
              "1                  0.0              6.3  \n",
              "2                  0.0             12.8  \n",
              "3                  1.0             20.9  \n",
              "4                  0.0              6.3  \n",
              "5                  0.0              7.2  "
            ],
            "text/html": [
              "\n",
              "  <div id=\"df-4b9cffdc-a4f3-4737-a53b-09b7decb61c1\">\n",
              "    <div class=\"colab-df-container\">\n",
              "      <div>\n",
              "<style scoped>\n",
              "    .dataframe tbody tr th:only-of-type {\n",
              "        vertical-align: middle;\n",
              "    }\n",
              "\n",
              "    .dataframe tbody tr th {\n",
              "        vertical-align: top;\n",
              "    }\n",
              "\n",
              "    .dataframe thead th {\n",
              "        text-align: right;\n",
              "    }\n",
              "</style>\n",
              "<table border=\"1\" class=\"dataframe\">\n",
              "  <thead>\n",
              "    <tr style=\"text-align: right;\">\n",
              "      <th></th>\n",
              "      <th>Age</th>\n",
              "      <th>Edu</th>\n",
              "      <th>Years Employed</th>\n",
              "      <th>Income</th>\n",
              "      <th>Card Debt</th>\n",
              "      <th>Other Debt</th>\n",
              "      <th>Defaulted</th>\n",
              "      <th>DebtIncomeRatio</th>\n",
              "    </tr>\n",
              "    <tr>\n",
              "      <th>Customer Id</th>\n",
              "      <th></th>\n",
              "      <th></th>\n",
              "      <th></th>\n",
              "      <th></th>\n",
              "      <th></th>\n",
              "      <th></th>\n",
              "      <th></th>\n",
              "      <th></th>\n",
              "    </tr>\n",
              "  </thead>\n",
              "  <tbody>\n",
              "    <tr>\n",
              "      <th>1</th>\n",
              "      <td>41</td>\n",
              "      <td>2</td>\n",
              "      <td>6</td>\n",
              "      <td>19</td>\n",
              "      <td>0.124</td>\n",
              "      <td>1.073</td>\n",
              "      <td>0.0</td>\n",
              "      <td>6.3</td>\n",
              "    </tr>\n",
              "    <tr>\n",
              "      <th>2</th>\n",
              "      <td>47</td>\n",
              "      <td>1</td>\n",
              "      <td>26</td>\n",
              "      <td>100</td>\n",
              "      <td>4.582</td>\n",
              "      <td>8.218</td>\n",
              "      <td>0.0</td>\n",
              "      <td>12.8</td>\n",
              "    </tr>\n",
              "    <tr>\n",
              "      <th>3</th>\n",
              "      <td>33</td>\n",
              "      <td>2</td>\n",
              "      <td>10</td>\n",
              "      <td>57</td>\n",
              "      <td>6.111</td>\n",
              "      <td>5.802</td>\n",
              "      <td>1.0</td>\n",
              "      <td>20.9</td>\n",
              "    </tr>\n",
              "    <tr>\n",
              "      <th>4</th>\n",
              "      <td>29</td>\n",
              "      <td>2</td>\n",
              "      <td>4</td>\n",
              "      <td>19</td>\n",
              "      <td>0.681</td>\n",
              "      <td>0.516</td>\n",
              "      <td>0.0</td>\n",
              "      <td>6.3</td>\n",
              "    </tr>\n",
              "    <tr>\n",
              "      <th>5</th>\n",
              "      <td>47</td>\n",
              "      <td>1</td>\n",
              "      <td>31</td>\n",
              "      <td>253</td>\n",
              "      <td>9.308</td>\n",
              "      <td>8.908</td>\n",
              "      <td>0.0</td>\n",
              "      <td>7.2</td>\n",
              "    </tr>\n",
              "  </tbody>\n",
              "</table>\n",
              "</div>\n",
              "      <button class=\"colab-df-convert\" onclick=\"convertToInteractive('df-4b9cffdc-a4f3-4737-a53b-09b7decb61c1')\"\n",
              "              title=\"Convert this dataframe to an interactive table.\"\n",
              "              style=\"display:none;\">\n",
              "        \n",
              "  <svg xmlns=\"http://www.w3.org/2000/svg\" height=\"24px\"viewBox=\"0 0 24 24\"\n",
              "       width=\"24px\">\n",
              "    <path d=\"M0 0h24v24H0V0z\" fill=\"none\"/>\n",
              "    <path d=\"M18.56 5.44l.94 2.06.94-2.06 2.06-.94-2.06-.94-.94-2.06-.94 2.06-2.06.94zm-11 1L8.5 8.5l.94-2.06 2.06-.94-2.06-.94L8.5 2.5l-.94 2.06-2.06.94zm10 10l.94 2.06.94-2.06 2.06-.94-2.06-.94-.94-2.06-.94 2.06-2.06.94z\"/><path d=\"M17.41 7.96l-1.37-1.37c-.4-.4-.92-.59-1.43-.59-.52 0-1.04.2-1.43.59L10.3 9.45l-7.72 7.72c-.78.78-.78 2.05 0 2.83L4 21.41c.39.39.9.59 1.41.59.51 0 1.02-.2 1.41-.59l7.78-7.78 2.81-2.81c.8-.78.8-2.07 0-2.86zM5.41 20L4 18.59l7.72-7.72 1.47 1.35L5.41 20z\"/>\n",
              "  </svg>\n",
              "      </button>\n",
              "      \n",
              "  <style>\n",
              "    .colab-df-container {\n",
              "      display:flex;\n",
              "      flex-wrap:wrap;\n",
              "      gap: 12px;\n",
              "    }\n",
              "\n",
              "    .colab-df-convert {\n",
              "      background-color: #E8F0FE;\n",
              "      border: none;\n",
              "      border-radius: 50%;\n",
              "      cursor: pointer;\n",
              "      display: none;\n",
              "      fill: #1967D2;\n",
              "      height: 32px;\n",
              "      padding: 0 0 0 0;\n",
              "      width: 32px;\n",
              "    }\n",
              "\n",
              "    .colab-df-convert:hover {\n",
              "      background-color: #E2EBFA;\n",
              "      box-shadow: 0px 1px 2px rgba(60, 64, 67, 0.3), 0px 1px 3px 1px rgba(60, 64, 67, 0.15);\n",
              "      fill: #174EA6;\n",
              "    }\n",
              "\n",
              "    [theme=dark] .colab-df-convert {\n",
              "      background-color: #3B4455;\n",
              "      fill: #D2E3FC;\n",
              "    }\n",
              "\n",
              "    [theme=dark] .colab-df-convert:hover {\n",
              "      background-color: #434B5C;\n",
              "      box-shadow: 0px 1px 3px 1px rgba(0, 0, 0, 0.15);\n",
              "      filter: drop-shadow(0px 1px 2px rgba(0, 0, 0, 0.3));\n",
              "      fill: #FFFFFF;\n",
              "    }\n",
              "  </style>\n",
              "\n",
              "      <script>\n",
              "        const buttonEl =\n",
              "          document.querySelector('#df-4b9cffdc-a4f3-4737-a53b-09b7decb61c1 button.colab-df-convert');\n",
              "        buttonEl.style.display =\n",
              "          google.colab.kernel.accessAllowed ? 'block' : 'none';\n",
              "\n",
              "        async function convertToInteractive(key) {\n",
              "          const element = document.querySelector('#df-4b9cffdc-a4f3-4737-a53b-09b7decb61c1');\n",
              "          const dataTable =\n",
              "            await google.colab.kernel.invokeFunction('convertToInteractive',\n",
              "                                                     [key], {});\n",
              "          if (!dataTable) return;\n",
              "\n",
              "          const docLinkHtml = 'Like what you see? Visit the ' +\n",
              "            '<a target=\"_blank\" href=https://colab.research.google.com/notebooks/data_table.ipynb>data table notebook</a>'\n",
              "            + ' to learn more about interactive tables.';\n",
              "          element.innerHTML = '';\n",
              "          dataTable['output_type'] = 'display_data';\n",
              "          await google.colab.output.renderOutput(dataTable, element);\n",
              "          const docLink = document.createElement('div');\n",
              "          docLink.innerHTML = docLinkHtml;\n",
              "          element.appendChild(docLink);\n",
              "        }\n",
              "      </script>\n",
              "    </div>\n",
              "  </div>\n",
              "  "
            ]
          },
          "metadata": {},
          "execution_count": 3
        }
      ]
    },
    {
      "cell_type": "markdown",
      "source": [
        "  - There are no more unnecessary columns."
      ],
      "metadata": {
        "id": "NobR7syFufmw"
      }
    },
    {
      "cell_type": "markdown",
      "source": [
        "### Inspect the data"
      ],
      "metadata": {
        "id": "oVm06JmGsykG"
      }
    },
    {
      "cell_type": "code",
      "source": [
        "df.shape"
      ],
      "metadata": {
        "colab": {
          "base_uri": "https://localhost:8080/"
        },
        "id": "5zuUdRlFsIC4",
        "outputId": "7d398a29-d7d9-468d-bfd5-73dd055afcf0"
      },
      "execution_count": 4,
      "outputs": [
        {
          "output_type": "execute_result",
          "data": {
            "text/plain": [
              "(850, 8)"
            ]
          },
          "metadata": {},
          "execution_count": 4
        }
      ]
    },
    {
      "cell_type": "markdown",
      "source": [
        "  - There are 850 rows and 8 columns."
      ],
      "metadata": {
        "id": "IS2ZHl9Iuqyn"
      }
    },
    {
      "cell_type": "code",
      "source": [
        "# check datatypes\n",
        "df.dtypes"
      ],
      "metadata": {
        "colab": {
          "base_uri": "https://localhost:8080/"
        },
        "id": "cr3mSSvFuqCZ",
        "outputId": "31bc829c-6451-4222-a593-289177246cb7"
      },
      "execution_count": 5,
      "outputs": [
        {
          "output_type": "execute_result",
          "data": {
            "text/plain": [
              "Age                  int64\n",
              "Edu                  int64\n",
              "Years Employed       int64\n",
              "Income               int64\n",
              "Card Debt          float64\n",
              "Other Debt         float64\n",
              "Defaulted          float64\n",
              "DebtIncomeRatio    float64\n",
              "dtype: object"
            ]
          },
          "metadata": {},
          "execution_count": 5
        }
      ]
    },
    {
      "cell_type": "markdown",
      "source": [
        "  - Age, Edu, Years Employed, and Income are all datatype int64.\n",
        "  - Card Debt, Other Debt, Defaulted, and DebtIncomeRatio are all datatype float64."
      ],
      "metadata": {
        "id": "qBi380H_vXm2"
      }
    },
    {
      "cell_type": "code",
      "source": [
        "# check for outliers and obvious errors\n",
        "df.describe()"
      ],
      "metadata": {
        "colab": {
          "base_uri": "https://localhost:8080/",
          "height": 300
        },
        "id": "PDHpYlFXvSrL",
        "outputId": "a194386c-db4b-4cd7-d91a-e00153afd497"
      },
      "execution_count": 6,
      "outputs": [
        {
          "output_type": "execute_result",
          "data": {
            "text/plain": [
              "              Age         Edu  Years Employed      Income   Card Debt  \\\n",
              "count  850.000000  850.000000      850.000000  850.000000  850.000000   \n",
              "mean    35.029412    1.710588        8.565882   46.675294    1.576820   \n",
              "std      8.041432    0.927784        6.777884   38.543054    2.125843   \n",
              "min     20.000000    1.000000        0.000000   13.000000    0.012000   \n",
              "25%     29.000000    1.000000        3.000000   24.000000    0.382500   \n",
              "50%     34.000000    1.000000        7.000000   35.000000    0.885000   \n",
              "75%     41.000000    2.000000       13.000000   55.750000    1.898500   \n",
              "max     56.000000    5.000000       33.000000  446.000000   20.561000   \n",
              "\n",
              "       Other Debt   Defaulted  DebtIncomeRatio  \n",
              "count  850.000000  700.000000       850.000000  \n",
              "mean     3.078773    0.261429        10.171647  \n",
              "std      3.398799    0.439727         6.719441  \n",
              "min      0.046000    0.000000         0.100000  \n",
              "25%      1.045750    0.000000         5.100000  \n",
              "50%      2.003000    0.000000         8.700000  \n",
              "75%      3.903250    1.000000        13.800000  \n",
              "max     35.197000    1.000000        41.300000  "
            ],
            "text/html": [
              "\n",
              "  <div id=\"df-eeb14b82-67cc-4078-bc0d-3d079f0a9ec7\">\n",
              "    <div class=\"colab-df-container\">\n",
              "      <div>\n",
              "<style scoped>\n",
              "    .dataframe tbody tr th:only-of-type {\n",
              "        vertical-align: middle;\n",
              "    }\n",
              "\n",
              "    .dataframe tbody tr th {\n",
              "        vertical-align: top;\n",
              "    }\n",
              "\n",
              "    .dataframe thead th {\n",
              "        text-align: right;\n",
              "    }\n",
              "</style>\n",
              "<table border=\"1\" class=\"dataframe\">\n",
              "  <thead>\n",
              "    <tr style=\"text-align: right;\">\n",
              "      <th></th>\n",
              "      <th>Age</th>\n",
              "      <th>Edu</th>\n",
              "      <th>Years Employed</th>\n",
              "      <th>Income</th>\n",
              "      <th>Card Debt</th>\n",
              "      <th>Other Debt</th>\n",
              "      <th>Defaulted</th>\n",
              "      <th>DebtIncomeRatio</th>\n",
              "    </tr>\n",
              "  </thead>\n",
              "  <tbody>\n",
              "    <tr>\n",
              "      <th>count</th>\n",
              "      <td>850.000000</td>\n",
              "      <td>850.000000</td>\n",
              "      <td>850.000000</td>\n",
              "      <td>850.000000</td>\n",
              "      <td>850.000000</td>\n",
              "      <td>850.000000</td>\n",
              "      <td>700.000000</td>\n",
              "      <td>850.000000</td>\n",
              "    </tr>\n",
              "    <tr>\n",
              "      <th>mean</th>\n",
              "      <td>35.029412</td>\n",
              "      <td>1.710588</td>\n",
              "      <td>8.565882</td>\n",
              "      <td>46.675294</td>\n",
              "      <td>1.576820</td>\n",
              "      <td>3.078773</td>\n",
              "      <td>0.261429</td>\n",
              "      <td>10.171647</td>\n",
              "    </tr>\n",
              "    <tr>\n",
              "      <th>std</th>\n",
              "      <td>8.041432</td>\n",
              "      <td>0.927784</td>\n",
              "      <td>6.777884</td>\n",
              "      <td>38.543054</td>\n",
              "      <td>2.125843</td>\n",
              "      <td>3.398799</td>\n",
              "      <td>0.439727</td>\n",
              "      <td>6.719441</td>\n",
              "    </tr>\n",
              "    <tr>\n",
              "      <th>min</th>\n",
              "      <td>20.000000</td>\n",
              "      <td>1.000000</td>\n",
              "      <td>0.000000</td>\n",
              "      <td>13.000000</td>\n",
              "      <td>0.012000</td>\n",
              "      <td>0.046000</td>\n",
              "      <td>0.000000</td>\n",
              "      <td>0.100000</td>\n",
              "    </tr>\n",
              "    <tr>\n",
              "      <th>25%</th>\n",
              "      <td>29.000000</td>\n",
              "      <td>1.000000</td>\n",
              "      <td>3.000000</td>\n",
              "      <td>24.000000</td>\n",
              "      <td>0.382500</td>\n",
              "      <td>1.045750</td>\n",
              "      <td>0.000000</td>\n",
              "      <td>5.100000</td>\n",
              "    </tr>\n",
              "    <tr>\n",
              "      <th>50%</th>\n",
              "      <td>34.000000</td>\n",
              "      <td>1.000000</td>\n",
              "      <td>7.000000</td>\n",
              "      <td>35.000000</td>\n",
              "      <td>0.885000</td>\n",
              "      <td>2.003000</td>\n",
              "      <td>0.000000</td>\n",
              "      <td>8.700000</td>\n",
              "    </tr>\n",
              "    <tr>\n",
              "      <th>75%</th>\n",
              "      <td>41.000000</td>\n",
              "      <td>2.000000</td>\n",
              "      <td>13.000000</td>\n",
              "      <td>55.750000</td>\n",
              "      <td>1.898500</td>\n",
              "      <td>3.903250</td>\n",
              "      <td>1.000000</td>\n",
              "      <td>13.800000</td>\n",
              "    </tr>\n",
              "    <tr>\n",
              "      <th>max</th>\n",
              "      <td>56.000000</td>\n",
              "      <td>5.000000</td>\n",
              "      <td>33.000000</td>\n",
              "      <td>446.000000</td>\n",
              "      <td>20.561000</td>\n",
              "      <td>35.197000</td>\n",
              "      <td>1.000000</td>\n",
              "      <td>41.300000</td>\n",
              "    </tr>\n",
              "  </tbody>\n",
              "</table>\n",
              "</div>\n",
              "      <button class=\"colab-df-convert\" onclick=\"convertToInteractive('df-eeb14b82-67cc-4078-bc0d-3d079f0a9ec7')\"\n",
              "              title=\"Convert this dataframe to an interactive table.\"\n",
              "              style=\"display:none;\">\n",
              "        \n",
              "  <svg xmlns=\"http://www.w3.org/2000/svg\" height=\"24px\"viewBox=\"0 0 24 24\"\n",
              "       width=\"24px\">\n",
              "    <path d=\"M0 0h24v24H0V0z\" fill=\"none\"/>\n",
              "    <path d=\"M18.56 5.44l.94 2.06.94-2.06 2.06-.94-2.06-.94-.94-2.06-.94 2.06-2.06.94zm-11 1L8.5 8.5l.94-2.06 2.06-.94-2.06-.94L8.5 2.5l-.94 2.06-2.06.94zm10 10l.94 2.06.94-2.06 2.06-.94-2.06-.94-.94-2.06-.94 2.06-2.06.94z\"/><path d=\"M17.41 7.96l-1.37-1.37c-.4-.4-.92-.59-1.43-.59-.52 0-1.04.2-1.43.59L10.3 9.45l-7.72 7.72c-.78.78-.78 2.05 0 2.83L4 21.41c.39.39.9.59 1.41.59.51 0 1.02-.2 1.41-.59l7.78-7.78 2.81-2.81c.8-.78.8-2.07 0-2.86zM5.41 20L4 18.59l7.72-7.72 1.47 1.35L5.41 20z\"/>\n",
              "  </svg>\n",
              "      </button>\n",
              "      \n",
              "  <style>\n",
              "    .colab-df-container {\n",
              "      display:flex;\n",
              "      flex-wrap:wrap;\n",
              "      gap: 12px;\n",
              "    }\n",
              "\n",
              "    .colab-df-convert {\n",
              "      background-color: #E8F0FE;\n",
              "      border: none;\n",
              "      border-radius: 50%;\n",
              "      cursor: pointer;\n",
              "      display: none;\n",
              "      fill: #1967D2;\n",
              "      height: 32px;\n",
              "      padding: 0 0 0 0;\n",
              "      width: 32px;\n",
              "    }\n",
              "\n",
              "    .colab-df-convert:hover {\n",
              "      background-color: #E2EBFA;\n",
              "      box-shadow: 0px 1px 2px rgba(60, 64, 67, 0.3), 0px 1px 3px 1px rgba(60, 64, 67, 0.15);\n",
              "      fill: #174EA6;\n",
              "    }\n",
              "\n",
              "    [theme=dark] .colab-df-convert {\n",
              "      background-color: #3B4455;\n",
              "      fill: #D2E3FC;\n",
              "    }\n",
              "\n",
              "    [theme=dark] .colab-df-convert:hover {\n",
              "      background-color: #434B5C;\n",
              "      box-shadow: 0px 1px 3px 1px rgba(0, 0, 0, 0.15);\n",
              "      filter: drop-shadow(0px 1px 2px rgba(0, 0, 0, 0.3));\n",
              "      fill: #FFFFFF;\n",
              "    }\n",
              "  </style>\n",
              "\n",
              "      <script>\n",
              "        const buttonEl =\n",
              "          document.querySelector('#df-eeb14b82-67cc-4078-bc0d-3d079f0a9ec7 button.colab-df-convert');\n",
              "        buttonEl.style.display =\n",
              "          google.colab.kernel.accessAllowed ? 'block' : 'none';\n",
              "\n",
              "        async function convertToInteractive(key) {\n",
              "          const element = document.querySelector('#df-eeb14b82-67cc-4078-bc0d-3d079f0a9ec7');\n",
              "          const dataTable =\n",
              "            await google.colab.kernel.invokeFunction('convertToInteractive',\n",
              "                                                     [key], {});\n",
              "          if (!dataTable) return;\n",
              "\n",
              "          const docLinkHtml = 'Like what you see? Visit the ' +\n",
              "            '<a target=\"_blank\" href=https://colab.research.google.com/notebooks/data_table.ipynb>data table notebook</a>'\n",
              "            + ' to learn more about interactive tables.';\n",
              "          element.innerHTML = '';\n",
              "          dataTable['output_type'] = 'display_data';\n",
              "          await google.colab.output.renderOutput(dataTable, element);\n",
              "          const docLink = document.createElement('div');\n",
              "          docLink.innerHTML = docLinkHtml;\n",
              "          element.appendChild(docLink);\n",
              "        }\n",
              "      </script>\n",
              "    </div>\n",
              "  </div>\n",
              "  "
            ]
          },
          "metadata": {},
          "execution_count": 6
        }
      ]
    },
    {
      "cell_type": "markdown",
      "source": [
        "  - There are no obvious outliers or errors in the data."
      ],
      "metadata": {
        "id": "zai2cjcJv6p0"
      }
    },
    {
      "cell_type": "code",
      "source": [
        "# check for duplicated rows\n",
        "df.duplicated().sum()"
      ],
      "metadata": {
        "colab": {
          "base_uri": "https://localhost:8080/"
        },
        "id": "nHiHRhhvvsNA",
        "outputId": "9405e1e3-32ea-4c84-b11d-92f74614408a"
      },
      "execution_count": 7,
      "outputs": [
        {
          "output_type": "execute_result",
          "data": {
            "text/plain": [
              "0"
            ]
          },
          "metadata": {},
          "execution_count": 7
        }
      ]
    },
    {
      "cell_type": "markdown",
      "source": [
        "  - There are 0 duplicates."
      ],
      "metadata": {
        "id": "YJsBbSGuwABi"
      }
    },
    {
      "cell_type": "code",
      "source": [
        "# check for missing values\n",
        "df.isna().sum()"
      ],
      "metadata": {
        "colab": {
          "base_uri": "https://localhost:8080/"
        },
        "id": "RY1WwJ0kv9r3",
        "outputId": "71a103e1-9cd5-46ed-b9ee-fce18104499f"
      },
      "execution_count": 8,
      "outputs": [
        {
          "output_type": "execute_result",
          "data": {
            "text/plain": [
              "Age                  0\n",
              "Edu                  0\n",
              "Years Employed       0\n",
              "Income               0\n",
              "Card Debt            0\n",
              "Other Debt           0\n",
              "Defaulted          150\n",
              "DebtIncomeRatio      0\n",
              "dtype: int64"
            ]
          },
          "metadata": {},
          "execution_count": 8
        }
      ]
    },
    {
      "cell_type": "markdown",
      "source": [
        "  - There are 150 missing values in Defaulted.\n",
        "  - Options:\n",
        "    - Dropping rows was not a good option because 17.65% of rows are missing data--too many (>2%) to just eliminate.\n",
        "    - Dropping columns was not a good option because whether they defaulted might be an import property for clustering--additionally, it is one of the properties specifically requested by the company. Also, <50% of the data are missing, too little to just eliminate.\n",
        "    - Creating a new category was not a good option because it would introduce errors that might skew the clusters.\n",
        "    - Imputing the most frequent value was a good option because the most frequent value is most likely the value closest to the missing values."
      ],
      "metadata": {
        "id": "UGRr-DkmwLBd"
      }
    },
    {
      "cell_type": "code",
      "source": [
        "display(df['Defaulted'].mode())"
      ],
      "metadata": {
        "colab": {
          "base_uri": "https://localhost:8080/",
          "height": 53
        },
        "id": "H0hI4c3ewDNv",
        "outputId": "002adfd4-34e7-431d-cdf3-7afb0fa03896"
      },
      "execution_count": 9,
      "outputs": [
        {
          "output_type": "display_data",
          "data": {
            "text/plain": [
              "0    0.0\n",
              "dtype: float64"
            ]
          },
          "metadata": {}
        }
      ]
    },
    {
      "cell_type": "code",
      "source": [
        "df['Defaulted'].fillna(0.0, inplace=True)\n",
        "df.isna().sum()"
      ],
      "metadata": {
        "colab": {
          "base_uri": "https://localhost:8080/"
        },
        "id": "FT2g7x6tPlfe",
        "outputId": "4284cd96-1685-47d7-a107-1bb8637dd631"
      },
      "execution_count": 10,
      "outputs": [
        {
          "output_type": "execute_result",
          "data": {
            "text/plain": [
              "Age                0\n",
              "Edu                0\n",
              "Years Employed     0\n",
              "Income             0\n",
              "Card Debt          0\n",
              "Other Debt         0\n",
              "Defaulted          0\n",
              "DebtIncomeRatio    0\n",
              "dtype: int64"
            ]
          },
          "metadata": {},
          "execution_count": 10
        }
      ]
    },
    {
      "cell_type": "markdown",
      "source": [
        "  - There are now 0 missing values."
      ],
      "metadata": {
        "id": "c7jr4y481yi4"
      }
    },
    {
      "cell_type": "code",
      "source": [
        "#check for inconsistencies in categorical data\n",
        "df['Edu'].value_counts()"
      ],
      "metadata": {
        "colab": {
          "base_uri": "https://localhost:8080/"
        },
        "id": "g4C4FynW1qpy",
        "outputId": "992376b9-be50-46e0-9493-dc298a3ebd5c"
      },
      "execution_count": 11,
      "outputs": [
        {
          "output_type": "execute_result",
          "data": {
            "text/plain": [
              "1    460\n",
              "2    235\n",
              "3    101\n",
              "4     49\n",
              "5      5\n",
              "Name: Edu, dtype: int64"
            ]
          },
          "metadata": {},
          "execution_count": 11
        }
      ]
    },
    {
      "cell_type": "code",
      "source": [
        "df['Defaulted'].value_counts()"
      ],
      "metadata": {
        "colab": {
          "base_uri": "https://localhost:8080/"
        },
        "id": "79nt4Apw2RU4",
        "outputId": "38142025-be41-4cc6-deba-3f9c1ab6f9b8"
      },
      "execution_count": 12,
      "outputs": [
        {
          "output_type": "execute_result",
          "data": {
            "text/plain": [
              "0.0    667\n",
              "1.0    183\n",
              "Name: Defaulted, dtype: int64"
            ]
          },
          "metadata": {},
          "execution_count": 12
        }
      ]
    },
    {
      "cell_type": "markdown",
      "source": [
        "  - There are no inconsistencies in the categorical data."
      ],
      "metadata": {
        "id": "b-FwEonh2bfY"
      }
    },
    {
      "cell_type": "markdown",
      "source": [
        "## Scale the data"
      ],
      "metadata": {
        "id": "PGgDRzzK29KH"
      }
    },
    {
      "cell_type": "code",
      "source": [
        "#instantiate standard scaler\n",
        "scaler = StandardScaler()\n",
        "#fit and transform data\n",
        "scaled_df = scaler.fit_transform(df)"
      ],
      "metadata": {
        "id": "OeYolhvS2ZE_"
      },
      "execution_count": 13,
      "outputs": []
    },
    {
      "cell_type": "markdown",
      "source": [
        "## KMeans Clustering"
      ],
      "metadata": {
        "id": "DtHDYPOF3O2n"
      }
    },
    {
      "cell_type": "markdown",
      "source": [
        "### Elbow plot of inertia"
      ],
      "metadata": {
        "id": "tEv0oXFW3sEb"
      }
    },
    {
      "cell_type": "code",
      "source": [
        "#create an empty list of inertias\n",
        "inertias = []\n",
        "#loop through k values between 2 and 10 and store the inertias in the list\n",
        "for k in range(2, 11):\n",
        "  kmeans = KMeans(n_clusters = k, random_state=42)\n",
        "  kmeans.fit(scaled_df)\n",
        "  inertias.append(kmeans.inertia_)\n",
        "#visualize scores\n",
        "plt.plot(range(2, 11), inertias, marker = '.')\n",
        "plt.xlabel('Number of Clusters')\n",
        "plt.ylabel('Inertia');"
      ],
      "metadata": {
        "colab": {
          "base_uri": "https://localhost:8080/",
          "height": 279
        },
        "id": "UHRxAYqT3Xxe",
        "outputId": "b33a66db-dc34-4dde-ff51-c91aecb6f307"
      },
      "execution_count": 14,
      "outputs": [
        {
          "output_type": "display_data",
          "data": {
            "text/plain": [
              "<Figure size 432x288 with 1 Axes>"
            ],
            "image/png": "[encoded data removed]"
          },
          "metadata": {
            "needs_background": "light"
          }
        }
      ]
    },
    {
      "cell_type": "markdown",
      "source": [
        "  - The inertia plot does not have a very pronounced elbow at any number, but the graph seems to level off a bit at 4 clusters.  4 would be one candidate for a good number of clusters."
      ],
      "metadata": {
        "id": "kuNB7wEo4Ji4"
      }
    },
    {
      "cell_type": "markdown",
      "source": [
        "### Silhouette scores"
      ],
      "metadata": {
        "id": "ij3-U2f34tpd"
      }
    },
    {
      "cell_type": "code",
      "source": [
        "#save silhouette scores for various cluster numbers in list\n",
        "silhouette_scores = []\n",
        "for i in range(2, 11):\n",
        "  kmeans = KMeans(n_clusters = i, random_state=42)\n",
        "  kmeans.fit(scaled_df)\n",
        "  silhouette_scores.append(silhouette_score(scaled_df, kmeans.labels_))\n",
        "#visualize scores\n",
        "plt.plot(range(2, 11), silhouette_scores, marker = '.')\n",
        "plt.xlabel('Number of Clusters')\n",
        "plt.ylabel('Silhouette Score');"
      ],
      "metadata": {
        "colab": {
          "base_uri": "https://localhost:8080/",
          "height": 279
        },
        "id": "pvLm52r7359X",
        "outputId": "a6171105-fb54-4397-fe5b-fe3e5554b717"
      },
      "execution_count": 15,
      "outputs": [
        {
          "output_type": "display_data",
          "data": {
            "text/plain": [
              "<Figure size 432x288 with 1 Axes>"
            ],
            "image/png": "[encoded data removed]"
          },
          "metadata": {
            "needs_background": "light"
          }
        }
      ]
    },
    {
      "cell_type": "markdown",
      "source": [
        "  - The graph shows that 2 would be another candidate for a good number of clusters since it has the highest Silhouette Score."
      ],
      "metadata": {
        "id": "9VboTOOX5BCU"
      }
    },
    {
      "cell_type": "markdown",
      "source": [
        "  - Reviewing the elbow plot of inertia, it appears that the slope of the line between 2 and 3 clusters is steepest, which confirms that 2 is the best candidate for the number of clusters. \n",
        "  - Fitting 2 different KMeans models (one with 2 clusters and one with 4 clusters) and displaying the silhouette scores will again confirm the best number of clusters."
      ],
      "metadata": {
        "id": "JexZtTqo7Pq5"
      }
    },
    {
      "cell_type": "code",
      "source": [
        "# instantiate two different KMeans models using 2 clusters and 4 clusters\n",
        "kmeans2 = KMeans(n_clusters = 2, random_state=42)\n",
        "kmeans4 = KMeans(n_clusters = 4, random_state=42)\n",
        "# fit the models\n",
        "kmeans2.fit(scaled_df)\n",
        "kmeans4.fit(scaled_df)\n",
        "# display the silhouette scores\n",
        "print(f'Silhouette Score using 2 clusters: {silhouette_score(scaled_df, kmeans2.labels_)}')\n",
        "print(f'Silhouette Score using 4 clusters: {silhouette_score(scaled_df, kmeans4.labels_)}')"
      ],
      "metadata": {
        "colab": {
          "base_uri": "https://localhost:8080/"
        },
        "id": "wNuHk0Ga6956",
        "outputId": "735ebd7f-2f01-4e35-969c-3f67c5283857"
      },
      "execution_count": 16,
      "outputs": [
        {
          "output_type": "stream",
          "name": "stdout",
          "text": [
            "Silhouette Score using 2 clusters: 0.3401172685946081\n",
            "Silhouette Score using 4 clusters: 0.2530737177201414\n"
          ]
        }
      ]
    },
    {
      "cell_type": "markdown",
      "source": [
        "- K = 2 has the highest silhouette score and a good elbow plot of inertia, making it the best candidate for the number of clusters."
      ],
      "metadata": {
        "id": "gLq43tN_8-se"
      }
    },
    {
      "cell_type": "markdown",
      "source": [
        "### Save the final KMeans Clustering Model"
      ],
      "metadata": {
        "id": "i8S98zdHc8OB"
      }
    },
    {
      "cell_type": "code",
      "source": [
        "# add the clusters as a new column in the original unscaled data frame\n",
        "df['cluster'] = kmeans2.labels_\n",
        "df.head()"
      ],
      "metadata": {
        "id": "CWuAtOVR89YT",
        "colab": {
          "base_uri": "https://localhost:8080/",
          "height": 238
        },
        "outputId": "2d768727-5d3d-45e8-c14d-b1edb44f1dfe"
      },
      "execution_count": 17,
      "outputs": [
        {
          "output_type": "execute_result",
          "data": {
            "text/plain": [
              "             Age  Edu  Years Employed  Income  Card Debt  Other Debt  \\\n",
              "Customer Id                                                            \n",
              "1             41    2               6      19      0.124       1.073   \n",
              "2             47    1              26     100      4.582       8.218   \n",
              "3             33    2              10      57      6.111       5.802   \n",
              "4             29    2               4      19      0.681       0.516   \n",
              "5             47    1              31     253      9.308       8.908   \n",
              "\n",
              "             Defaulted  DebtIncomeRatio  cluster  \n",
              "Customer Id                                       \n",
              "1                  0.0              6.3        0  \n",
              "2                  0.0             12.8        1  \n",
              "3                  1.0             20.9        1  \n",
              "4                  0.0              6.3        0  \n",
              "5                  0.0              7.2        1  "
            ],
            "text/html": [
              "\n",
              "  <div id=\"df-da875f7a-8e3d-4d82-bef3-7bf72f3c7755\">\n",
              "    <div class=\"colab-df-container\">\n",
              "      <div>\n",
              "<style scoped>\n",
              "    .dataframe tbody tr th:only-of-type {\n",
              "        vertical-align: middle;\n",
              "    }\n",
              "\n",
              "    .dataframe tbody tr th {\n",
              "        vertical-align: top;\n",
              "    }\n",
              "\n",
              "    .dataframe thead th {\n",
              "        text-align: right;\n",
              "    }\n",
              "</style>\n",
              "<table border=\"1\" class=\"dataframe\">\n",
              "  <thead>\n",
              "    <tr style=\"text-align: right;\">\n",
              "      <th></th>\n",
              "      <th>Age</th>\n",
              "      <th>Edu</th>\n",
              "      <th>Years Employed</th>\n",
              "      <th>Income</th>\n",
              "      <th>Card Debt</th>\n",
              "      <th>Other Debt</th>\n",
              "      <th>Defaulted</th>\n",
              "      <th>DebtIncomeRatio</th>\n",
              "      <th>cluster</th>\n",
              "    </tr>\n",
              "    <tr>\n",
              "      <th>Customer Id</th>\n",
              "      <th></th>\n",
              "      <th></th>\n",
              "      <th></th>\n",
              "      <th></th>\n",
              "      <th></th>\n",
              "      <th></th>\n",
              "      <th></th>\n",
              "      <th></th>\n",
              "      <th></th>\n",
              "    </tr>\n",
              "  </thead>\n",
              "  <tbody>\n",
              "    <tr>\n",
              "      <th>1</th>\n",
              "      <td>41</td>\n",
              "      <td>2</td>\n",
              "      <td>6</td>\n",
              "      <td>19</td>\n",
              "      <td>0.124</td>\n",
              "      <td>1.073</td>\n",
              "      <td>0.0</td>\n",
              "      <td>6.3</td>\n",
              "      <td>0</td>\n",
              "    </tr>\n",
              "    <tr>\n",
              "      <th>2</th>\n",
              "      <td>47</td>\n",
              "      <td>1</td>\n",
              "      <td>26</td>\n",
              "      <td>100</td>\n",
              "      <td>4.582</td>\n",
              "      <td>8.218</td>\n",
              "      <td>0.0</td>\n",
              "      <td>12.8</td>\n",
              "      <td>1</td>\n",
              "    </tr>\n",
              "    <tr>\n",
              "      <th>3</th>\n",
              "      <td>33</td>\n",
              "      <td>2</td>\n",
              "      <td>10</td>\n",
              "      <td>57</td>\n",
              "      <td>6.111</td>\n",
              "      <td>5.802</td>\n",
              "      <td>1.0</td>\n",
              "      <td>20.9</td>\n",
              "      <td>1</td>\n",
              "    </tr>\n",
              "    <tr>\n",
              "      <th>4</th>\n",
              "      <td>29</td>\n",
              "      <td>2</td>\n",
              "      <td>4</td>\n",
              "      <td>19</td>\n",
              "      <td>0.681</td>\n",
              "      <td>0.516</td>\n",
              "      <td>0.0</td>\n",
              "      <td>6.3</td>\n",
              "      <td>0</td>\n",
              "    </tr>\n",
              "    <tr>\n",
              "      <th>5</th>\n",
              "      <td>47</td>\n",
              "      <td>1</td>\n",
              "      <td>31</td>\n",
              "      <td>253</td>\n",
              "      <td>9.308</td>\n",
              "      <td>8.908</td>\n",
              "      <td>0.0</td>\n",
              "      <td>7.2</td>\n",
              "      <td>1</td>\n",
              "    </tr>\n",
              "  </tbody>\n",
              "</table>\n",
              "</div>\n",
              "      <button class=\"colab-df-convert\" onclick=\"convertToInteractive('df-da875f7a-8e3d-4d82-bef3-7bf72f3c7755')\"\n",
              "              title=\"Convert this dataframe to an interactive table.\"\n",
              "              style=\"display:none;\">\n",
              "        \n",
              "  <svg xmlns=\"http://www.w3.org/2000/svg\" height=\"24px\"viewBox=\"0 0 24 24\"\n",
              "       width=\"24px\">\n",
              "    <path d=\"M0 0h24v24H0V0z\" fill=\"none\"/>\n",
              "    <path d=\"M18.56 5.44l.94 2.06.94-2.06 2.06-.94-2.06-.94-.94-2.06-.94 2.06-2.06.94zm-11 1L8.5 8.5l.94-2.06 2.06-.94-2.06-.94L8.5 2.5l-.94 2.06-2.06.94zm10 10l.94 2.06.94-2.06 2.06-.94-2.06-.94-.94-2.06-.94 2.06-2.06.94z\"/><path d=\"M17.41 7.96l-1.37-1.37c-.4-.4-.92-.59-1.43-.59-.52 0-1.04.2-1.43.59L10.3 9.45l-7.72 7.72c-.78.78-.78 2.05 0 2.83L4 21.41c.39.39.9.59 1.41.59.51 0 1.02-.2 1.41-.59l7.78-7.78 2.81-2.81c.8-.78.8-2.07 0-2.86zM5.41 20L4 18.59l7.72-7.72 1.47 1.35L5.41 20z\"/>\n",
              "  </svg>\n",
              "      </button>\n",
              "      \n",
              "  <style>\n",
              "    .colab-df-container {\n",
              "      display:flex;\n",
              "      flex-wrap:wrap;\n",
              "      gap: 12px;\n",
              "    }\n",
              "\n",
              "    .colab-df-convert {\n",
              "      background-color: #E8F0FE;\n",
              "      border: none;\n",
              "      border-radius: 50%;\n",
              "      cursor: pointer;\n",
              "      display: none;\n",
              "      fill: #1967D2;\n",
              "      height: 32px;\n",
              "      padding: 0 0 0 0;\n",
              "      width: 32px;\n",
              "    }\n",
              "\n",
              "    .colab-df-convert:hover {\n",
              "      background-color: #E2EBFA;\n",
              "      box-shadow: 0px 1px 2px rgba(60, 64, 67, 0.3), 0px 1px 3px 1px rgba(60, 64, 67, 0.15);\n",
              "      fill: #174EA6;\n",
              "    }\n",
              "\n",
              "    [theme=dark] .colab-df-convert {\n",
              "      background-color: #3B4455;\n",
              "      fill: #D2E3FC;\n",
              "    }\n",
              "\n",
              "    [theme=dark] .colab-df-convert:hover {\n",
              "      background-color: #434B5C;\n",
              "      box-shadow: 0px 1px 3px 1px rgba(0, 0, 0, 0.15);\n",
              "      filter: drop-shadow(0px 1px 2px rgba(0, 0, 0, 0.3));\n",
              "      fill: #FFFFFF;\n",
              "    }\n",
              "  </style>\n",
              "\n",
              "      <script>\n",
              "        const buttonEl =\n",
              "          document.querySelector('#df-da875f7a-8e3d-4d82-bef3-7bf72f3c7755 button.colab-df-convert');\n",
              "        buttonEl.style.display =\n",
              "          google.colab.kernel.accessAllowed ? 'block' : 'none';\n",
              "\n",
              "        async function convertToInteractive(key) {\n",
              "          const element = document.querySelector('#df-da875f7a-8e3d-4d82-bef3-7bf72f3c7755');\n",
              "          const dataTable =\n",
              "            await google.colab.kernel.invokeFunction('convertToInteractive',\n",
              "                                                     [key], {});\n",
              "          if (!dataTable) return;\n",
              "\n",
              "          const docLinkHtml = 'Like what you see? Visit the ' +\n",
              "            '<a target=\"_blank\" href=https://colab.research.google.com/notebooks/data_table.ipynb>data table notebook</a>'\n",
              "            + ' to learn more about interactive tables.';\n",
              "          element.innerHTML = '';\n",
              "          dataTable['output_type'] = 'display_data';\n",
              "          await google.colab.output.renderOutput(dataTable, element);\n",
              "          const docLink = document.createElement('div');\n",
              "          docLink.innerHTML = docLinkHtml;\n",
              "          element.appendChild(docLink);\n",
              "        }\n",
              "      </script>\n",
              "    </div>\n",
              "  </div>\n",
              "  "
            ]
          },
          "metadata": {},
          "execution_count": 17
        }
      ]
    },
    {
      "cell_type": "markdown",
      "source": [
        "## Analytical Visualizations"
      ],
      "metadata": {
        "id": "pT4bglZqdpqF"
      }
    },
    {
      "cell_type": "code",
      "source": [
        "#group the dataframe by cluster and aggregate by mean values\n",
        "cluster_groups = df.groupby('cluster', as_index = False).mean()\n",
        "cluster_groups"
      ],
      "metadata": {
        "colab": {
          "base_uri": "https://localhost:8080/",
          "height": 112
        },
        "id": "iMv3SrD1dj5x",
        "outputId": "de93269a-b4e7-4a45-88ea-b6456ce756e6"
      },
      "execution_count": 18,
      "outputs": [
        {
          "output_type": "execute_result",
          "data": {
            "text/plain": [
              "   cluster        Age       Edu  Years Employed     Income  Card Debt  \\\n",
              "0        0  32.968563  1.645210        6.492515  33.618263   0.937349   \n",
              "1        1  42.593407  1.950549       16.175824  94.598901   3.923890   \n",
              "\n",
              "   Other Debt  Defaulted  DebtIncomeRatio  \n",
              "0    1.899054   0.215569         9.126796  \n",
              "1    7.408731   0.214286        14.006593  "
            ],
            "text/html": [
              "\n",
              "  <div id=\"df-1ac948c2-7a0e-4e0c-9e68-0cc6334514ef\">\n",
              "    <div class=\"colab-df-container\">\n",
              "      <div>\n",
              "<style scoped>\n",
              "    .dataframe tbody tr th:only-of-type {\n",
              "        vertical-align: middle;\n",
              "    }\n",
              "\n",
              "    .dataframe tbody tr th {\n",
              "        vertical-align: top;\n",
              "    }\n",
              "\n",
              "    .dataframe thead th {\n",
              "        text-align: right;\n",
              "    }\n",
              "</style>\n",
              "<table border=\"1\" class=\"dataframe\">\n",
              "  <thead>\n",
              "    <tr style=\"text-align: right;\">\n",
              "      <th></th>\n",
              "      <th>cluster</th>\n",
              "      <th>Age</th>\n",
              "      <th>Edu</th>\n",
              "      <th>Years Employed</th>\n",
              "      <th>Income</th>\n",
              "      <th>Card Debt</th>\n",
              "      <th>Other Debt</th>\n",
              "      <th>Defaulted</th>\n",
              "      <th>DebtIncomeRatio</th>\n",
              "    </tr>\n",
              "  </thead>\n",
              "  <tbody>\n",
              "    <tr>\n",
              "      <th>0</th>\n",
              "      <td>0</td>\n",
              "      <td>32.968563</td>\n",
              "      <td>1.645210</td>\n",
              "      <td>6.492515</td>\n",
              "      <td>33.618263</td>\n",
              "      <td>0.937349</td>\n",
              "      <td>1.899054</td>\n",
              "      <td>0.215569</td>\n",
              "      <td>9.126796</td>\n",
              "    </tr>\n",
              "    <tr>\n",
              "      <th>1</th>\n",
              "      <td>1</td>\n",
              "      <td>42.593407</td>\n",
              "      <td>1.950549</td>\n",
              "      <td>16.175824</td>\n",
              "      <td>94.598901</td>\n",
              "      <td>3.923890</td>\n",
              "      <td>7.408731</td>\n",
              "      <td>0.214286</td>\n",
              "      <td>14.006593</td>\n",
              "    </tr>\n",
              "  </tbody>\n",
              "</table>\n",
              "</div>\n",
              "      <button class=\"colab-df-convert\" onclick=\"convertToInteractive('df-1ac948c2-7a0e-4e0c-9e68-0cc6334514ef')\"\n",
              "              title=\"Convert this dataframe to an interactive table.\"\n",
              "              style=\"display:none;\">\n",
              "        \n",
              "  <svg xmlns=\"http://www.w3.org/2000/svg\" height=\"24px\"viewBox=\"0 0 24 24\"\n",
              "       width=\"24px\">\n",
              "    <path d=\"M0 0h24v24H0V0z\" fill=\"none\"/>\n",
              "    <path d=\"M18.56 5.44l.94 2.06.94-2.06 2.06-.94-2.06-.94-.94-2.06-.94 2.06-2.06.94zm-11 1L8.5 8.5l.94-2.06 2.06-.94-2.06-.94L8.5 2.5l-.94 2.06-2.06.94zm10 10l.94 2.06.94-2.06 2.06-.94-2.06-.94-.94-2.06-.94 2.06-2.06.94z\"/><path d=\"M17.41 7.96l-1.37-1.37c-.4-.4-.92-.59-1.43-.59-.52 0-1.04.2-1.43.59L10.3 9.45l-7.72 7.72c-.78.78-.78 2.05 0 2.83L4 21.41c.39.39.9.59 1.41.59.51 0 1.02-.2 1.41-.59l7.78-7.78 2.81-2.81c.8-.78.8-2.07 0-2.86zM5.41 20L4 18.59l7.72-7.72 1.47 1.35L5.41 20z\"/>\n",
              "  </svg>\n",
              "      </button>\n",
              "      \n",
              "  <style>\n",
              "    .colab-df-container {\n",
              "      display:flex;\n",
              "      flex-wrap:wrap;\n",
              "      gap: 12px;\n",
              "    }\n",
              "\n",
              "    .colab-df-convert {\n",
              "      background-color: #E8F0FE;\n",
              "      border: none;\n",
              "      border-radius: 50%;\n",
              "      cursor: pointer;\n",
              "      display: none;\n",
              "      fill: #1967D2;\n",
              "      height: 32px;\n",
              "      padding: 0 0 0 0;\n",
              "      width: 32px;\n",
              "    }\n",
              "\n",
              "    .colab-df-convert:hover {\n",
              "      background-color: #E2EBFA;\n",
              "      box-shadow: 0px 1px 2px rgba(60, 64, 67, 0.3), 0px 1px 3px 1px rgba(60, 64, 67, 0.15);\n",
              "      fill: #174EA6;\n",
              "    }\n",
              "\n",
              "    [theme=dark] .colab-df-convert {\n",
              "      background-color: #3B4455;\n",
              "      fill: #D2E3FC;\n",
              "    }\n",
              "\n",
              "    [theme=dark] .colab-df-convert:hover {\n",
              "      background-color: #434B5C;\n",
              "      box-shadow: 0px 1px 3px 1px rgba(0, 0, 0, 0.15);\n",
              "      filter: drop-shadow(0px 1px 2px rgba(0, 0, 0, 0.3));\n",
              "      fill: #FFFFFF;\n",
              "    }\n",
              "  </style>\n",
              "\n",
              "      <script>\n",
              "        const buttonEl =\n",
              "          document.querySelector('#df-1ac948c2-7a0e-4e0c-9e68-0cc6334514ef button.colab-df-convert');\n",
              "        buttonEl.style.display =\n",
              "          google.colab.kernel.accessAllowed ? 'block' : 'none';\n",
              "\n",
              "        async function convertToInteractive(key) {\n",
              "          const element = document.querySelector('#df-1ac948c2-7a0e-4e0c-9e68-0cc6334514ef');\n",
              "          const dataTable =\n",
              "            await google.colab.kernel.invokeFunction('convertToInteractive',\n",
              "                                                     [key], {});\n",
              "          if (!dataTable) return;\n",
              "\n",
              "          const docLinkHtml = 'Like what you see? Visit the ' +\n",
              "            '<a target=\"_blank\" href=https://colab.research.google.com/notebooks/data_table.ipynb>data table notebook</a>'\n",
              "            + ' to learn more about interactive tables.';\n",
              "          element.innerHTML = '';\n",
              "          dataTable['output_type'] = 'display_data';\n",
              "          await google.colab.output.renderOutput(dataTable, element);\n",
              "          const docLink = document.createElement('div');\n",
              "          docLink.innerHTML = docLinkHtml;\n",
              "          element.appendChild(docLink);\n",
              "        }\n",
              "      </script>\n",
              "    </div>\n",
              "  </div>\n",
              "  "
            ]
          },
          "metadata": {},
          "execution_count": 18
        }
      ]
    },
    {
      "cell_type": "code",
      "source": [
        "#visualize the means\n",
        "fig, axes = plt.subplots(2, 4, figsize = (20, 10))\n",
        "axes = axes.ravel()\n",
        "#loop over columns (except 'cluster') and plot each in a separate figure\n",
        "for i, col in enumerate(cluster_groups.columns[1:]):\n",
        "  axes[i].bar(cluster_groups['cluster'], cluster_groups[col])\n",
        "  axes[i].set_title(f'Mean {col}')"
      ],
      "metadata": {
        "colab": {
          "base_uri": "https://localhost:8080/",
          "height": 607
        },
        "id": "As3TpfiSePAU",
        "outputId": "2b25fc16-6ab8-4435-b5d6-5c5c08ac9a0b"
      },
      "execution_count": 19,
      "outputs": [
        {
          "output_type": "display_data",
          "data": {
            "text/plain": [
              "<Figure size 1440x720 with 8 Axes>"
            ],
            "image/png": "[encoded data removed]"
          },
          "metadata": {
            "needs_background": "light"
          }
        }
      ]
    },
    {
      "cell_type": "markdown",
      "source": [
        "### Cluster Descriptions:"
      ],
      "metadata": {
        "id": "Ox2ZCr_cgHWw"
      }
    },
    {
      "cell_type": "markdown",
      "source": [
        "#### Cluster 0:\n",
        "  - Cluster 0 customers were younger and less educated than cluster 1 customers.  They had been employed for fewer years and had lower income--these trends reduce their candidacy for credit card offers.  However, they also had lower debts (credit card and other) and lower debt to income ratio--these trends increase their candidacy for credit card offers.  They had the same default rate as cluster 1 customers, despite their lower debts, which was concerning.\n",
        "  - The typical cluster 0 customer is in their 30's.  They have a bit of higher education, they've been employed for only about 6 or 7 years, and they make less than 40,000.  They have about 3000 in debt, which is less than 10% of their overall income.  However, they have defaulted on their debt at some point.\n",
        "  - Overall, cluster 0 customers have less experience with employment, income, and money management--they carry less debt, especially compared to their income, but they default at a similar rate as cluster 1 customers."
      ],
      "metadata": {
        "id": "6XD1V6uKgLg9"
      }
    },
    {
      "cell_type": "markdown",
      "source": [
        "#### Cluster 1:\n",
        "  - Cluster 1 customers were older and more educated than cluster 0 customers.  They had been employed for a longer amount of time and had higher incomes, both demonstrating their employment stability--these trends increase their candidacy for credit card offers.  However, they also had higher debts (credit card and other) and higher debt to income ratios.  Their default rate was the same as cluster 0 customers--these trends indicate that their money management skills are superior to cluster 0 customers.\n",
        "  - The typical cluster 1 customer is in their 40's, with a moderate amount of higher education.  They have been employed for more than 15 years, and they make more than 90,000.  They have more than 10,000 in debt, which might include home ownership--it is more than 14% of their overall income.  They have defaulted on their debt at some point in their long credit history.\n",
        "  - Cluster 1 customers have more experience with employment, income, and money management--they showed superior money management skills compared to cluster 0 customers.\n",
        "\n"
      ],
      "metadata": {
        "id": "Z1yYY3SsgNx9"
      }
    },
    {
      "cell_type": "markdown",
      "source": [
        "## Recommendations:"
      ],
      "metadata": {
        "id": "fUat4XV-j1tP"
      }
    },
    {
      "cell_type": "markdown",
      "source": [
        "  - Based on their longer experience with employment, income, and money management, Cluster 1 customers are good candidates for credit card offers.  The offers should have high credit limits because they have significant income that they are willing to spend.  They should have lower interest rates because Cluster 1 customers know how to manage their debt.\n",
        "  - Based on their debt, Cluster 0 customers are also good candidates for credit card offers.  The offers should have lower credit limits and higher interest rates though, because Cluster 0 customers have the same amount of defaults despite their lower debts.  They have some long-term potential as a credit customer because they are young and new to the workforce--perhaps they will earn higher credit limits and lower interest rates as they demonstrate more successful money management skills."
      ],
      "metadata": {
        "id": "NLVfQM9Lj4Ei"
      }
    },
    {
      "cell_type": "code",
      "source": [],
      "metadata": {
        "id": "73jEH1c2e6oL"
      },
      "execution_count": 19,
      "outputs": []
    }
  ]
}